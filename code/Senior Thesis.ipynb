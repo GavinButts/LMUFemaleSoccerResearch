{
 "cells": [
  {
   "cell_type": "markdown",
   "id": "7badc751",
   "metadata": {},
   "source": [
    "# Importing Libraries"
   ]
  },
  {
   "cell_type": "code",
   "execution_count": null,
   "id": "4e32f371",
   "metadata": {},
   "outputs": [],
   "source": [
    "import numpy as np\n",
    "import pandas as pd\n",
    "#!pip install seaborn\n",
    "import seaborn as sns\n",
    "import matplotlib.pyplot as plt\n",
    "from mpl_toolkits import mplot3d\n",
    "import warnings\n",
    "warnings.filterwarnings(\"ignore\")\n",
    "\n",
    "from sklearn.linear_model import LinearRegression, Ridge, Lasso, ElasticNet, BayesianRidge \n",
    "from sklearn.kernel_ridge import KernelRidge\n",
    "from sklearn.model_selection import train_test_split, cross_val_score\n",
    "from sklearn.decomposition import PCA\n",
    "from sklearn.feature_selection import RFE\n",
    "from sklearn.metrics import r2_score\n",
    "from sklearn.ensemble import ExtraTreesClassifier, RandomForestClassifier, GradientBoostingClassifier\n",
    "from sklearn.preprocessing import MinMaxScaler\n",
    "\n",
    "# Original Dataset\n",
    "data = pd.read_csv('Wellness_Database_3_6.csv').iloc[0:1061]\n",
    "\n",
    "# New Dataset\n",
    "df = pd.read_csv('Wellness_Database_3_6.csv').iloc[1061:1310]"
   ]
  },
  {
   "cell_type": "markdown",
   "id": "4e22882f",
   "metadata": {},
   "source": [
    "# Heatmap"
   ]
  },
  {
   "cell_type": "code",
   "execution_count": null,
   "id": "6ba906f2",
   "metadata": {},
   "outputs": [],
   "source": [
    "ax = plt.axes()\n",
    "sns.heatmap(df.corr(), annot = True, cmap = 'rocket_r', ax = ax);\n",
    "ax.set_title('Correlation Heatmap')\n",
    "\n",
    "plt.savefig(\"heatmap.png\")\n",
    "plt.show()"
   ]
  },
  {
   "cell_type": "markdown",
   "id": "7b08d5a6",
   "metadata": {},
   "source": [
    "# **Testing Regressions**"
   ]
  },
  {
   "cell_type": "code",
   "execution_count": null,
   "id": "3a3371c7",
   "metadata": {},
   "outputs": [],
   "source": [
    "# Splitting data to only select entries starting on 2/2/23, date of new survey\n",
    "\n",
    "# Creating athlete_id to test individual regressions\n",
    "performance = pd.read_csv('performance_data.csv')\n",
    "performance = performance.iloc[1061:1233, 2:12]\n",
    "athlete_id  = []\n",
    "for ath_id in performance['Athlete ID #']:\n",
    "    athlete_id.append(int(ath_id.replace('Athlete ', '')))\n",
    "performance['Athlete ID #'] = athlete_id\n",
    "\n",
    "# Getting rid of qualitative data\n",
    "del performance['What is your injury status?']\n",
    "del performance['Select where you are sore:']\n",
    "\n",
    "# Creating perf_X (performance data independent variables) and perf_y (performance data target variable)\n",
    "perf_X = performance.iloc[:, 1:7]\n",
    "perf_y = performance.iloc[:, 7]"
   ]
  },
  {
   "cell_type": "code",
   "execution_count": null,
   "id": "54c4d53b",
   "metadata": {},
   "outputs": [],
   "source": [
    "# Naive testing all of the models on both normalized data (models_norm) and non-normalized data (models)\n",
    "\n",
    "models_norm = [LinearRegression(normalize = True), Lasso(normalize = True), ElasticNet(normalize = True), Ridge(normalize = True),  BayesianRidge(normalize = True)]\n",
    "models = [LinearRegression(), Lasso(), ElasticNet(), Ridge(), BayesianRidge()]\n",
    "X_train, X_test, y_train, y_test = train_test_split(perf_X, perf_y, test_size = 0.2, random_state = 42)\n",
    "for model in models_norm:\n",
    "    model.fit(X_train, y_train)\n",
    "    scores = cross_val_score(model, X_train, y_train)\n",
    "    print(\"Model score for \", model, \" (normalized): \", model.score(X_test, y_test))\n",
    "    print(' ')\n",
    "print(' ')\n",
    "print(' ')\n",
    "for model in models:\n",
    "    model.fit(X_train, y_train)\n",
    "    scores = cross_val_score(model, X_train, y_train)\n",
    "    print(\"Model score for \", model, \" :\", model.score(X_test, y_test))\n",
    "    print(' ')"
   ]
  },
  {
   "cell_type": "markdown",
   "id": "2bf52112",
   "metadata": {},
   "source": [
    "# Feature Selection - Classification Methods"
   ]
  },
  {
   "cell_type": "code",
   "execution_count": null,
   "id": "c4ee72cd",
   "metadata": {},
   "outputs": [],
   "source": [
    "# Fitting the data to an ExtraTreesClassifier model to find most important features\n",
    "\n",
    "model = ExtraTreesClassifier()\n",
    "model.fit(perf_X, perf_y)\n",
    "print(model.feature_importances_)"
   ]
  },
  {
   "cell_type": "code",
   "execution_count": null,
   "id": "47844cbb",
   "metadata": {},
   "outputs": [],
   "source": [
    "# Fitting the data to an RandomForestClassifier model to find most important features\n",
    "\n",
    "model = RandomForestClassifier()\n",
    "model.fit(perf_X, perf_y)\n",
    "print(model.feature_importances_)"
   ]
  },
  {
   "cell_type": "code",
   "execution_count": null,
   "id": "05b839fb",
   "metadata": {},
   "outputs": [],
   "source": [
    "# Fitting the data to an GradientBoostingClassifier model to find most important features\n",
    "\n",
    "model = GradientBoostingClassifier()\n",
    "model.fit(perf_X, perf_y)\n",
    "print(model.feature_importances_)"
   ]
  },
  {
   "cell_type": "markdown",
   "id": "05d6717d",
   "metadata": {},
   "source": [
    "# Feature Selection - RFE"
   ]
  },
  {
   "cell_type": "code",
   "execution_count": null,
   "id": "56202743",
   "metadata": {},
   "outputs": [],
   "source": [
    "# Using RFE on all of the models to find the selected features for each model\n",
    "\n",
    "estimators = [LinearRegression(), Lasso(), ElasticNet(), Ridge(), BayesianRidge(), LinearRegression(normalize = True), Lasso(normalize = True), ElasticNet(normalize = True), Ridge(normalize = True), BayesianRidge(normalize = True)]\n",
    "for estimator in estimators:\n",
    "    selector = RFE(estimator, n_features_to_select=3, step=1)\n",
    "    selector = selector.fit(perf_X, perf_y)\n",
    "    print('Best Features for', estimator)\n",
    "    print(selector.support_)\n",
    "    print(selector.ranking_)\n",
    "    print(' ')"
   ]
  },
  {
   "cell_type": "markdown",
   "id": "bc4c97ec",
   "metadata": {},
   "source": [
    "# Random State Optimization using Features Selected from Classification Methods"
   ]
  },
  {
   "cell_type": "code",
   "execution_count": null,
   "id": "1e4ed950",
   "metadata": {},
   "outputs": [],
   "source": [
    "models_norm = [LinearRegression(normalize = True), Lasso(normalize = True), ElasticNet(normalize = True), Ridge(normalize = True),  BayesianRidge(normalize = True)]\n",
    "models = [LinearRegression(), Lasso(), ElasticNet(), Ridge(), BayesianRidge()]\n",
    "\n",
    "# Iterating through 1000 different random states to find the highest scoring state for each model, normalized\n",
    "for model in models_norm:\n",
    "    highest_score = 0\n",
    "    best_n = 0\n",
    "    for n in range(1000):\n",
    "        X_train, X_test, y_train, y_test = train_test_split(perf_X, perf_y, test_size = 0.2, random_state = n)\n",
    "        model.fit(X_train.iloc[:,[0,3,4]], y_train)\n",
    "        scores = cross_val_score(model, X_train.iloc[:,[0,3,4]], y_train)\n",
    "        if model.score(X_test.iloc[:,[0,3,4]], y_test) > highest_score:\n",
    "            highest_score = model.score(X_test.iloc[:,[0,3,4]], y_test)\n",
    "            best_n = n\n",
    "    print(\"Best Score for \", model, \" is \", highest_score, \" at Random State \", best_n)\n",
    "    \n",
    "print(' ')\n",
    "\n",
    "# Iterating through 1000 different random states to find the highest scoring state for each model, non-normalized\n",
    "\\\\"
   ]
  },
  {
   "cell_type": "markdown",
   "id": "a2eb385f",
   "metadata": {},
   "source": [
    "# Random State Optimization using Features Selected from RFE"
   ]
  },
  {
   "cell_type": "code",
   "execution_count": null,
   "id": "04f0f265",
   "metadata": {},
   "outputs": [],
   "source": [
    "models_norm = [LinearRegression(normalize = True), Lasso(normalize = True), ElasticNet(normalize = True), Ridge(normalize = True),  BayesianRidge(normalize = True)]\n",
    "models = [LinearRegression(), Lasso(), ElasticNet(), Ridge(), BayesianRidge()]\n",
    "cols_norm = [[1,2,3],[3,4,5],[1,4,5],[1,2,3],[1,2,3]]\n",
    "\n",
    "for i in range(5):\n",
    "    highest_score = 0\n",
    "    best_n = 0\n",
    "    for n in range(1000):\n",
    "        X_train, X_test, y_train, y_test = train_test_split(perf_X, perf_y, test_size = 0.2, random_state = n)\n",
    "        model = models_norm[i].fit(X_train.iloc[:,cols_norm[i]], y_train)\n",
    "        scores = cross_val_score(model, X_train.iloc[:,cols_norm[i]], y_train)\n",
    "        if model.score(X_test.iloc[:,cols_norm[i]], y_test) > highest_score:\n",
    "            highest_score = model.score(X_test.iloc[:,cols_norm[i]], y_test)\n",
    "            best_n = n\n",
    "    print(\"Best Score for \", models_norm[i], \" is \", highest_score, \" at Random State \", best_n)\n",
    "    print(model.coef_)\n",
    "    print(model.intercept_)\n",
    "    \n",
    "print(' ')\n",
    "\n",
    "for model in models:\n",
    "    highest_score = 0\n",
    "    best_n = 0\n",
    "    for n in range(1000):\n",
    "        X_train, X_test, y_train, y_test = train_test_split(perf_X, perf_y, test_size = 0.2, random_state = n)\n",
    "        model.fit(X_train.iloc[:,[1,2,3]], y_train)\n",
    "        scores = cross_val_score(model, X_train.iloc[:,[1,2,3]], y_train)\n",
    "        if model.score(X_test.iloc[:,[1,2,3]], y_test) > highest_score:\n",
    "            highest_score = model.score(X_test.iloc[:,[1,2,3]], y_test)\n",
    "            best_n = n\n",
    "    print(\"Best Score for \", model, \" is \", highest_score, \" at Random State \", best_n)\n",
    "    print(model.coef_)\n",
    "    print(model.intercept_)"
   ]
  },
  {
   "cell_type": "markdown",
   "id": "06435801",
   "metadata": {},
   "source": [
    "# Creating Scatterplots"
   ]
  },
  {
   "cell_type": "code",
   "execution_count": null,
   "id": "01389573",
   "metadata": {},
   "outputs": [],
   "source": [
    "# Scatter plot of Stress, Soreness and Hydration\n",
    "ax1 = plt.axes(projection='3d')\n",
    "\n",
    "# From Classifiers\n",
    "ax1.scatter3D(perf_X.iloc[:,0], perf_X.iloc[:,3], perf_X.iloc[:,4], color = 'blue')\n",
    "ax1.set_xlabel('Stress')\n",
    "ax1.set_ylabel('Soreness')\n",
    "ax1.set_zlabel('Hydration')\n",
    "plt.savefig(\"plot1.png\")"
   ]
  },
  {
   "cell_type": "code",
   "execution_count": null,
   "id": "0c7efaca",
   "metadata": {},
   "outputs": [],
   "source": [
    "# Scatter plot of Sleep Quality, Sleep Quantity, and Soreness\n",
    "ax2 = plt.axes(projection='3d')\n",
    "\n",
    "# RFE\n",
    "# Non-Normalized\n",
    "ax2.scatter3D(perf_X.iloc[:,1], perf_X.iloc[:,2], perf_X.iloc[:,3], color = 'green')\n",
    "ax2.set_xlabel('Sleep Quality')\n",
    "ax2.set_ylabel('Sleep Quantity')\n",
    "ax2.set_zlabel('Soreness')\n",
    "plt.savefig(\"plot2.png\")"
   ]
  },
  {
   "cell_type": "code",
   "execution_count": null,
   "id": "b1d7c702",
   "metadata": {},
   "outputs": [],
   "source": [
    "# Scatter plot of Fuel, Soreness and Hydration\n",
    "ax4 = plt.axes(projection='3d')\n",
    "\n",
    "# Lasso\n",
    "ax4.scatter3D(perf_X.iloc[:,3], perf_X.iloc[:,4], perf_X.iloc[:,5], color = 'red')\n",
    "ax4.set_xlabel('Soreness')\n",
    "ax4.set_ylabel('Hydration')\n",
    "ax4.set_zlabel('Fuel')\n",
    "plt.savefig(\"plot3.png\")"
   ]
  },
  {
   "cell_type": "code",
   "execution_count": null,
   "id": "d00e21d2",
   "metadata": {},
   "outputs": [],
   "source": [
    "# Scatter plot of Sleep Quality, Hydration and Fuel\n",
    "ax5 = plt.axes(projection='3d')\n",
    "\n",
    "# Elastic Net\n",
    "ax5.scatter3D(perf_X.iloc[:,1], perf_X.iloc[:,4], perf_X.iloc[:,5], color = 'purple')\n",
    "ax5.set_xlabel('Sleep Quality')\n",
    "ax5.set_ylabel('Hydration')\n",
    "ax5.set_zlabel('Fuel')\n",
    "plt.savefig(\"plot4.png\")"
   ]
  },
  {
   "cell_type": "markdown",
   "id": "02ff0fd1",
   "metadata": {},
   "source": [
    "# Testing Regressions by Athlete"
   ]
  },
  {
   "cell_type": "code",
   "execution_count": null,
   "id": "eb34edfa",
   "metadata": {},
   "outputs": [],
   "source": [
    "# There wasn't enough data for this to be successful; an error message pops up so it won't run\n",
    "# But the methodology could be useful in the future to build a model for each athlete\n",
    "athletes = performance['Athlete ID #'].unique()\n",
    "\n",
    "for athlete in athletes:\n",
    "    print('Athlete', athlete)\n",
    "    data = performance[performance['Athlete ID #'] == athlete]\n",
    "    perf_X = data.iloc[:, 1:7]\n",
    "    perf_y = data.iloc[:, 7]\n",
    "    \n",
    "    models_norm = [LinearRegression(normalize = True), Lasso(normalize = True), ElasticNet(normalize = True), Ridge(normalize = True), KernelRidge(), BayesianRidge(normalize = True)]\n",
    "    models = [LinearRegression(), Lasso(), ElasticNet(), Ridge(), KernelRidge(), BayesianRidge()]\n",
    "    X_train, X_test, y_train, y_test = train_test_split(perf_X, perf_y, test_size = 0.3, random_state = 42)\n",
    "    for model in models_norm:\n",
    "        model.fit(X_train, y_train)\n",
    "        scores = cross_val_score(model, X_train, y_train)\n",
    "        print(\"Model score for \", model, \" (normalized): \", model.score(X_test, y_test))\n",
    "        print(' ')\n",
    "    print(' ')\n",
    "    print(' ')\n",
    "    for model in models:\n",
    "        model.fit(X_train, y_train)\n",
    "        scores = cross_val_score(model, X_train, y_train)\n",
    "        print(\"Model score for \", model, \" (normalized): \", model.score(X_test, y_test))\n",
    "        print(' ')"
   ]
  }
 ],
 "metadata": {
  "kernelspec": {
   "display_name": "Python 3 (ipykernel)",
   "language": "python",
   "name": "python3"
  },
  "language_info": {
   "codemirror_mode": {
    "name": "ipython",
    "version": 3
   },
   "file_extension": ".py",
   "mimetype": "text/x-python",
   "name": "python",
   "nbconvert_exporter": "python",
   "pygments_lexer": "ipython3",
   "version": "3.9.7"
  }
 },
 "nbformat": 4,
 "nbformat_minor": 5
}
