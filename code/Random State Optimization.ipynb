{
 "cells": [
  {
   "cell_type": "code",
   "execution_count": 4,
   "id": "3022ddee",
   "metadata": {},
   "outputs": [],
   "source": [
    "#Create Dataframe\n",
    "\n",
    "import pandas as pd\n",
    "df = pd.read_excel(\"~/Desktop/Research/LMU_Wellness/data/Wellness_Database_May19.xlsx\", sheet_name=\"Wellness Responses\")\n",
    "\n",
    "sore_areas = [\"Neck\", \"Back\", \"Shoulders\", \"Chest\", \"Arms\", \"Hip Flexors\", \"Glutes\", \"Hamstrings\", \"Quadricps\", \"Adductors\", \"Calves\", \"Feet\"]\n",
    "for area in sore_areas:\n",
    "    df[area] = df[\"Select where you are sore:\"].str.contains(area, na=False).astype(int)\n",
    "\n",
    "# Drop the original \"Select where you are sore:\" column\n",
    "df = df.drop(\"Select where you are sore:\", axis=1)\n",
    "\n",
    "columns_to_drop = ['Athlete Name','Timestamp', 'Athlete ID #', 'Data ID', 'Week ID', 'Week ID Refined', 'Date Value', 'Year ID', 'Season ID', 'Injury Refined', 'Position', 'Classification', 'Stress RA', 'Stress StdDev', 'Stress Z-Score', 'Stress Wellness Score', 'Sleep Quality RA', 'Sleep Quality StdDev', 'Sleep Quality Z-Score', 'Sleep Quality Wellness Score', 'Sleep Quantity RA', 'Sleep Quantity StdDev', 'Sleep Quantity Z-Score', 'Sleep Quantity Wellness Score', 'Soreness RA', 'Soreness StdDev', 'Soreness Z-Score', 'Soreness Wellness Score', 'Hydrate RA', 'Hydrate StdDev', 'Hydrate Z-Score', 'Hydrate Wellness Score', 'Fuel RA', 'Fuel StdDev', 'Fuel Z-Score', 'Fuel Wellness Score', 'Readiness Score']\n",
    "df = df.drop(columns_to_drop, axis=1)\n",
    "\n",
    "df['No Injury'] = (df['What is your injury status?'] == 'Full = I have no injury').astype(int)\n",
    "df['Some Injury'] = (df['What is your injury status?'] == 'Limited = I need a modification during lift / practice').astype(int)\n",
    "df['Injury'] = (df['What is your injury status?'] == 'Out = I have an injury').astype(int)\n",
    "\n",
    "# Drop the original column\n",
    "df = df.drop('What is your injury status?', axis=1)\n",
    "\n",
    "df = df.dropna(subset=[\"How well did you hydrate?\"])"
   ]
  },
  {
   "cell_type": "code",
   "execution_count": 11,
   "id": "f428d732",
   "metadata": {},
   "outputs": [
    {
     "name": "stdout",
     "output_type": "stream",
     "text": [
      "Best Score is 0.4976471368484966 at Random State 44969\n"
     ]
    }
   ],
   "source": [
    "from sklearn.model_selection import train_test_split\n",
    "from sklearn.linear_model import LinearRegression\n",
    "\n",
    "X = df.drop([\"What is your readiness score? \"], axis=1)  # Features (excluding target variable)\n",
    "y = df[\"What is your readiness score? \"]  # Target variable\n",
    "\n",
    "highest_score = 0\n",
    "best_n = 0    \n",
    "for n in range(100000):\n",
    "    X_train, X_test, y_train, y_test = train_test_split(X, y, test_size = 0.2, random_state = n)\n",
    "    \n",
    "    model = LinearRegression()\n",
    "    model.fit(X_train, y_train)\n",
    "    \n",
    "    #scores = cross_val_score(model, X_train, y_train)\n",
    "    if model.score(X_test, y_test) > highest_score:\n",
    "        highest_score = model.score(X_test, y_test)\n",
    "        best_n = n\n",
    "print(\"Best Score is\", highest_score, \"at Random State\", best_n)"
   ]
  },
  {
   "cell_type": "code",
   "execution_count": null,
   "id": "0c58de72",
   "metadata": {},
   "outputs": [],
   "source": []
  }
 ],
 "metadata": {
  "kernelspec": {
   "display_name": "Python 3 (ipykernel)",
   "language": "python",
   "name": "python3"
  },
  "language_info": {
   "codemirror_mode": {
    "name": "ipython",
    "version": 3
   },
   "file_extension": ".py",
   "mimetype": "text/x-python",
   "name": "python",
   "nbconvert_exporter": "python",
   "pygments_lexer": "ipython3",
   "version": "3.9.7"
  }
 },
 "nbformat": 4,
 "nbformat_minor": 5
}
