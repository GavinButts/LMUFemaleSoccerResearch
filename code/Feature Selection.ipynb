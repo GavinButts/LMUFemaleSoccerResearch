{
 "cells": [
  {
   "cell_type": "code",
   "execution_count": 2,
   "id": "60c2757f",
   "metadata": {},
   "outputs": [],
   "source": [
    "import pandas as pd\n",
    "\n",
    "df = pd.read_excel(\"~/Desktop/Research/LMU_Wellness/data/Wellness_Database_May19.xlsx\", sheet_name=\"Wellness Responses\")\n",
    "\n",
    "df = df.dropna(subset=[\"How well did you hydrate?\"])\n",
    "\n",
    "sore_areas = [\"Neck\", \"Back\", \"Shoulders\", \"Chest\", \"Arms\", \"Hip Flexors\", \"Glutes\", \"Hamstrings\", \"Quadricps\", \"Adductors\", \"Calves\", \"Feet\"]\n",
    "\n",
    "for area in sore_areas:\n",
    "    df[area] = df.apply(lambda row: row[\"How sore are you?\"] / (row[\"Select where you are sore:\"].count(\",\")+1) if (isinstance(row[\"Select where you are sore:\"], str) and area in row[\"Select where you are sore:\"]) else 0, axis=1)\n",
    "\n",
    "# Drop the original \"Select where you are sore:\" column\n",
    "df = df.drop(\"Select where you are sore:\", axis=1)\n",
    "\n",
    "columns_to_drop = ['Timestamp', 'Athlete ID #', 'Data ID', 'Week ID', 'Week ID Refined', 'Date Value', 'Year ID', 'Season ID', 'Injury Refined', 'Position', 'Classification', 'Stress RA', 'Stress StdDev', 'Stress Z-Score', 'Stress Wellness Score', 'Sleep Quality RA', 'Sleep Quality StdDev', 'Sleep Quality Z-Score', 'Sleep Quality Wellness Score', 'Sleep Quantity RA', 'Sleep Quantity StdDev', 'Sleep Quantity Z-Score', 'Sleep Quantity Wellness Score', 'Soreness RA', 'Soreness StdDev', 'Soreness Z-Score', 'Soreness Wellness Score', 'Hydrate RA', 'Hydrate StdDev', 'Hydrate Z-Score', 'Hydrate Wellness Score', 'Fuel RA', 'Fuel StdDev', 'Fuel Z-Score', 'Fuel Wellness Score', 'Readiness Score']\n",
    "df = df.drop(columns_to_drop, axis=1)\n",
    "\n",
    "df['No Injury'] = ((df['What is your injury status?'] == 'Full = I have no injury').astype(int))*10\n",
    "df['Some Injury'] = ((df['What is your injury status?'] == 'Limited = I need a modification during lift / practice').astype(int))*10\n",
    "df['Injury'] = ((df['What is your injury status?'] == 'Out = I have an injury').astype(int))*10\n",
    "\n",
    "# Drop the original column\n",
    "df = df.drop(['What is your injury status?', \"Athlete Name\"], axis=1)\n",
    "df = df.rename(columns={\"Athlete Name\": \"AthleteName\"})"
   ]
  },
  {
   "cell_type": "code",
   "execution_count": 11,
   "id": "7f58a000",
   "metadata": {},
   "outputs": [
    {
     "name": "stderr",
     "output_type": "stream",
     "text": [
      "/Users/gbutts/opt/anaconda3/lib/python3.9/site-packages/statsmodels/tsa/tsatools.py:142: FutureWarning: In a future version of pandas all arguments of concat except for the argument 'objs' will be keyword-only\n",
      "  x = pd.concat(x[::order], 1)\n"
     ]
    }
   ],
   "source": [
    "import numpy as np\n",
    "import statsmodels.api as sm\n",
    "from statsmodels.stats.outliers_influence import OLSInfluence\n",
    "\n",
    "# Prepare the data\n",
    "X = df.drop(\"What is your readiness score? \", axis=1)  # Features\n",
    "y = df[\"What is your readiness score? \"]  # Target variable\n",
    "\n",
    "# Add a constant term to the features\n",
    "X = sm.add_constant(X)\n",
    "\n",
    "# Fit the ordinary least squares (OLS) model\n",
    "model = sm.OLS(y, X)\n",
    "results = model.fit()\n",
    "\n",
    "# Compute leverage values\n",
    "leverage = OLSInfluence(results).hat_matrix_diag\n",
    "\n",
    "# Compute Cook's distance\n",
    "cooks_d = OLSInfluence(results).cooks_distance[0]\n",
    "\n",
    "# Set a threshold for identifying influential points\n",
    "threshold = 4 / len(X)  # You can adjust the threshold as needed\n",
    "\n",
    "# Identify influential points based on Cook's distance and leverage\n",
    "influential_points = np.where((cooks_d > threshold) | (leverage > np.mean(leverage) + 2 * np.std(leverage)))\n",
    "\n",
    "# Remove values\n",
    "for i in range(len(influential_points[0])):\n",
    "    df = df.drop(index = (influential_points[0][i]+1061) ) "
   ]
  },
  {
   "cell_type": "code",
   "execution_count": 12,
   "id": "445df6e3",
   "metadata": {},
   "outputs": [],
   "source": [
    "X = df.drop(\"What is your readiness score? \", axis=1)  # Features\n",
    "y = df[\"What is your readiness score? \"]  # Target variable\n",
    "feature_names = X.columns"
   ]
  },
  {
   "cell_type": "code",
   "execution_count": 13,
   "id": "0a344f4f",
   "metadata": {},
   "outputs": [
    {
     "name": "stdout",
     "output_type": "stream",
     "text": [
      "Feature: How stressed are you?, Score: 61.5003\n",
      "Feature: How well did you sleep?, Score: 31.8825\n",
      "Feature: How many hours did you sleep?, Score: 19.1834\n",
      "Feature: How sore are you?, Score: 134.8101\n",
      "Feature: How well did you hydrate?, Score: 0.2887\n",
      "Feature: How well did you fuel?, Score: 5.8558\n",
      "Feature: Neck, Score: 0.0067\n",
      "Feature: Back, Score: 2.4116\n",
      "Feature: Shoulders, Score: 13.5853\n",
      "Feature: Chest, Score: 0.0379\n",
      "Feature: Arms, Score: 1.4422\n",
      "Feature: Hip Flexors, Score: 0.1670\n",
      "Feature: Glutes, Score: 22.2383\n",
      "Feature: Hamstrings, Score: 21.7082\n",
      "Feature: Quadricps, Score: 3.7976\n",
      "Feature: Adductors, Score: 0.0323\n",
      "Feature: Calves, Score: 0.0332\n",
      "Feature: Feet, Score: 1.4635\n",
      "Feature: No Injury, Score: 9.7937\n",
      "Feature: Some Injury, Score: 9.7937\n",
      "Feature: Injury, Score: nan\n"
     ]
    },
    {
     "name": "stderr",
     "output_type": "stream",
     "text": [
      "/Users/gbutts/opt/anaconda3/lib/python3.9/site-packages/sklearn/feature_selection/_univariate_selection.py:302: RuntimeWarning: invalid value encountered in true_divide\n",
      "  corr /= X_norms\n"
     ]
    }
   ],
   "source": [
    "import numpy as np\n",
    "from sklearn.feature_selection import SelectKBest, f_regression\n",
    "\n",
    "# Assuming you have your feature matrix X and target variable y loaded\n",
    "\n",
    "# Define the number of features (K) you want to select\n",
    "num_features_to_select = 'all'\n",
    "\n",
    "# Initialize the feature selector\n",
    "selector = SelectKBest(score_func=f_regression, k=num_features_to_select)\n",
    "\n",
    "# Fit the selector to your data\n",
    "selector.fit(X, y)\n",
    "\n",
    "# Get the scores of each feature\n",
    "feature_scores = selector.scores_\n",
    "\n",
    "# Get the indices of the selected features\n",
    "selected_feature_indices = selector.get_support(indices=True)\n",
    "\n",
    "# Get the names of the selected features (assuming you have feature names available)\n",
    "selected_feature_names = [feature_names[i] for i in selected_feature_indices]\n",
    "\n",
    "# Print the scores and names of the selected features\n",
    "for score, name in zip(feature_scores, selected_feature_names):\n",
    "    print(f\"Feature: {name}, Score: {score:.4f}\")"
   ]
  },
  {
   "cell_type": "code",
   "execution_count": null,
   "id": "b06c2919",
   "metadata": {},
   "outputs": [],
   "source": [
    "#List of best variables"
   ]
  },
  {
   "cell_type": "code",
   "execution_count": null,
   "id": "08ed1b6c",
   "metadata": {},
   "outputs": [],
   "source": [
    "features = ['How sore are you?', 'How stressed are you?', 'How well did you sleep?', 'Glutes', 'Hamstrings', 'How many hours did you sleep?', 'Shoulders', 'No Injury']"
   ]
  }
 ],
 "metadata": {
  "kernelspec": {
   "display_name": "Python 3 (ipykernel)",
   "language": "python",
   "name": "python3"
  },
  "language_info": {
   "codemirror_mode": {
    "name": "ipython",
    "version": 3
   },
   "file_extension": ".py",
   "mimetype": "text/x-python",
   "name": "python",
   "nbconvert_exporter": "python",
   "pygments_lexer": "ipython3",
   "version": "3.9.7"
  }
 },
 "nbformat": 4,
 "nbformat_minor": 5
}
